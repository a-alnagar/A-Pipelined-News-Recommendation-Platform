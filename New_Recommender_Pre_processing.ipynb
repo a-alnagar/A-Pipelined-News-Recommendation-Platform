{
  "cells": [
    {
      "cell_type": "markdown",
      "source": [
        "# **Updates Cell**\n",
        "\n",
        "*18th May, 2022*\n",
        "\n",
        "This model was chosen since it was pretrained on news summarization datasets (CNN & Dailymail).\n",
        "\n",
        "The BART model only accepts tokens with size of 512 (it was pretrained on this size). We can divide each article to batches of 512 tokens and concantenate them later. To adjust tokens size to 2048 the model will need to be retrained.\n",
        "\n"
      ],
      "metadata": {
        "id": "3de8V-_ypbui"
      }
    },
    {
      "cell_type": "code",
      "source": [
        "!pip install transformers"
      ],
      "metadata": {
        "id": "vApeDLqMDevc",
        "colab": {
          "base_uri": "https://localhost:8080/"
        },
        "outputId": "81285aec-610f-4dd1-94f4-1f1132294095"
      },
      "execution_count": null,
      "outputs": [
        {
          "output_type": "stream",
          "name": "stdout",
          "text": [
            "Looking in indexes: https://pypi.org/simple, https://us-python.pkg.dev/colab-wheels/public/simple/\n",
            "Collecting transformers\n",
            "  Downloading transformers-4.19.2-py3-none-any.whl (4.2 MB)\n",
            "\u001b[K     |████████████████████████████████| 4.2 MB 5.2 MB/s \n",
            "\u001b[?25hCollecting huggingface-hub<1.0,>=0.1.0\n",
            "  Downloading huggingface_hub-0.6.0-py3-none-any.whl (84 kB)\n",
            "\u001b[K     |████████████████████████████████| 84 kB 2.7 MB/s \n",
            "\u001b[?25hRequirement already satisfied: requests in /usr/local/lib/python3.7/dist-packages (from transformers) (2.23.0)\n",
            "Collecting pyyaml>=5.1\n",
            "  Downloading PyYAML-6.0-cp37-cp37m-manylinux_2_5_x86_64.manylinux1_x86_64.manylinux_2_12_x86_64.manylinux2010_x86_64.whl (596 kB)\n",
            "\u001b[K     |████████████████████████████████| 596 kB 59.2 MB/s \n",
            "\u001b[?25hRequirement already satisfied: importlib-metadata in /usr/local/lib/python3.7/dist-packages (from transformers) (4.11.3)\n",
            "Requirement already satisfied: filelock in /usr/local/lib/python3.7/dist-packages (from transformers) (3.7.0)\n",
            "Requirement already satisfied: tqdm>=4.27 in /usr/local/lib/python3.7/dist-packages (from transformers) (4.64.0)\n",
            "Collecting tokenizers!=0.11.3,<0.13,>=0.11.1\n",
            "  Downloading tokenizers-0.12.1-cp37-cp37m-manylinux_2_12_x86_64.manylinux2010_x86_64.whl (6.6 MB)\n",
            "\u001b[K     |████████████████████████████████| 6.6 MB 41.5 MB/s \n",
            "\u001b[?25hRequirement already satisfied: regex!=2019.12.17 in /usr/local/lib/python3.7/dist-packages (from transformers) (2019.12.20)\n",
            "Requirement already satisfied: packaging>=20.0 in /usr/local/lib/python3.7/dist-packages (from transformers) (21.3)\n",
            "Requirement already satisfied: numpy>=1.17 in /usr/local/lib/python3.7/dist-packages (from transformers) (1.21.6)\n",
            "Requirement already satisfied: typing-extensions>=3.7.4.3 in /usr/local/lib/python3.7/dist-packages (from huggingface-hub<1.0,>=0.1.0->transformers) (4.2.0)\n",
            "Requirement already satisfied: pyparsing!=3.0.5,>=2.0.2 in /usr/local/lib/python3.7/dist-packages (from packaging>=20.0->transformers) (3.0.9)\n",
            "Requirement already satisfied: zipp>=0.5 in /usr/local/lib/python3.7/dist-packages (from importlib-metadata->transformers) (3.8.0)\n",
            "Requirement already satisfied: certifi>=2017.4.17 in /usr/local/lib/python3.7/dist-packages (from requests->transformers) (2022.5.18.1)\n",
            "Requirement already satisfied: idna<3,>=2.5 in /usr/local/lib/python3.7/dist-packages (from requests->transformers) (2.10)\n",
            "Requirement already satisfied: urllib3!=1.25.0,!=1.25.1,<1.26,>=1.21.1 in /usr/local/lib/python3.7/dist-packages (from requests->transformers) (1.24.3)\n",
            "Requirement already satisfied: chardet<4,>=3.0.2 in /usr/local/lib/python3.7/dist-packages (from requests->transformers) (3.0.4)\n",
            "Installing collected packages: pyyaml, tokenizers, huggingface-hub, transformers\n",
            "  Attempting uninstall: pyyaml\n",
            "    Found existing installation: PyYAML 3.13\n",
            "    Uninstalling PyYAML-3.13:\n",
            "      Successfully uninstalled PyYAML-3.13\n",
            "Successfully installed huggingface-hub-0.6.0 pyyaml-6.0 tokenizers-0.12.1 transformers-4.19.2\n"
          ]
        }
      ]
    },
    {
      "cell_type": "code",
      "source": [
        "!pip install nltk"
      ],
      "metadata": {
        "id": "LiB4aY6jPtsE",
        "colab": {
          "base_uri": "https://localhost:8080/"
        },
        "outputId": "781cd475-40f1-48f3-f28c-7e6409d66f4f"
      },
      "execution_count": null,
      "outputs": [
        {
          "output_type": "stream",
          "name": "stdout",
          "text": [
            "Looking in indexes: https://pypi.org/simple, https://us-python.pkg.dev/colab-wheels/public/simple/\n",
            "Requirement already satisfied: nltk in /usr/local/lib/python3.7/dist-packages (3.2.5)\n",
            "Requirement already satisfied: six in /usr/local/lib/python3.7/dist-packages (from nltk) (1.15.0)\n"
          ]
        }
      ]
    },
    {
      "cell_type": "code",
      "source": [
        "!pip freeze"
      ],
      "metadata": {
        "id": "v5BVRFyuRbBg"
      },
      "execution_count": null,
      "outputs": []
    },
    {
      "cell_type": "code",
      "source": [
        "import pandas as pd\n",
        "import re\n",
        "import torch\n",
        "from transformers import BartForConditionalGeneration, BartConfig, BartTokenizer\n",
        "import nltk"
      ],
      "metadata": {
        "id": "C2SRP5ue_ySo"
      },
      "execution_count": null,
      "outputs": []
    },
    {
      "cell_type": "code",
      "source": [
        "df = pd.read_csv('/content/samples')\n",
        "news = df.copy()\n",
        "news.columns = ['sk', 'url', 'title', 'text', 'tags', 'count', 'date', 'summary']\n",
        "test = news.loc[1:5]\n",
        "\n",
        "#convert the articles column to a list for summarization\n",
        "#this was done to avoid using apply as it has a big running time\n",
        "\n",
        "articles = test['text'].tolist()\n",
        "nums = test['count'].tolist()\n",
        "news = news.sort_values(by = ['count'])"
      ],
      "metadata": {
        "id": "YRclCIsYVVWo",
        "colab": {
          "base_uri": "https://localhost:8080/"
        },
        "outputId": "6b0d93cf-d72a-4b18-9de7-ad827bd02bdf"
      },
      "execution_count": null,
      "outputs": [
        {
          "output_type": "stream",
          "name": "stdout",
          "text": [
            "[\"          NPR's Ari Shapiro reports from Warsaw on how Ukrainian children are being educated in Poland. Sponsor Message\", 'To revisit this article select My Account then \\xa0 To revisit this article visit My Profile then   SAN FRANCISCO ( )—Chaos enveloped Twitter after the social-media company discovered that the Elon Musk who had offered to buy it three weeks ago was actually a bot. The bid for Twitter is believed to be the largest corporate takeover ever proposed by a bot mergers-and-acquisitions experts say. A visibly embarrassed Parag Agrawal the C.E.O. of Twitter explained to reporters how the company was persuaded that the Elon Musk bot was actually Elon Musk. “The bot account had a blue check indicating that it had been verified” Agrawal said. “It now appears that the bot had somehow been given the blue check by another bot.” The C.E.O. said that Twitter was conducting a “thorough internal review of procedures” to insure that it is not purchased by a bot in the future. “The bot appeared to be an actual human being which should’ve been our first clue that it wasn’t Elon” he said. Elon Musk deletes  . Marjorie Taylor Greene claims that she was   on January 6th. Ron DeSantis warns that  . Ketanji Brown Jackson declines Brett Kavanaugh’s  . Ted Cruz says the confirmation of a qualified Supreme Court nominee  .  for using such long words. A poll shows Volodymyr Zelensky  .  to receive more news satire by Andy Borowitz in your in-box. By signing up you agree to our   and  . ©  2022  Condé Nast. All rights reserved. Use of this site constitutes acceptance of our    and   and     may earn a portion of sales from products that are purchased through our site as part of our Affiliate Partnerships with retailers. The material on this site may not be reproduced distributed transmitted cached or otherwise used except with the prior written permission of Condé Nast.  ', \"Proponents of degrowth have long argued that economic growth is detrimental to the environment. Now scientists show that concerning the food sector curbing growth alone would not make our food system sustainable -- but changing what we eat and putting a price on carbon would. In a first a group led by the Potsdam Institute used a quantitative food and land system model to gauge the effects of degrowth and efficiency proposals on the food sector's greenhouse gas emissions. They find that combining a dietary shift emissions pricing and international income transfers could make the world's food system emissions-neutral by the end of the 21st century -- providing at the same time a healthier nutrition for a growing world population. Just shrinking the size of our current food system won't cut emissions much. Instead we need to transform the very nature of that global food system. says Benjamin Bodirsky researcher at Potsdam and the World Vegetable Center in Tainan Taiwan and author of the study. That means on the one hand that people consume what they need in terms of nutritional requirements curb food waste and eat a more balanced diet with much more vegetables and less animal products. On the other hand a qualitative transformation means more efficiency hence producing food in a less-polluting way: smarter dosing of fertilizers or planting higher-yield crops. Also carbon pricing could help steer farmers towards lower-emission agricultural practices because emitting less then means paying less. Put together this could drastically reduce greenhouse gas emissions. The way we produce food and manage our land is responsible for up to a third of global greenhouse gas emissions along the entire supply chain. So we looked at what this system would look like in a hypothetical degrowth world: On the basis of a review of degrowth proposals we created a set of scenarios to feed into a food and land systems computer simulation to explore their effect on the food system David Chen researcher at the Potsdam Institute for Climate Impact Research and author of the study explains. We took a step back from the heated normative debates about degrowth. What we found is that the current food system is basically unsustainable for any society regardless of economic growth rates. The simulations show that simply curbing growth in rich countries would not yield sizable sustainability benefits in the food system. Financial transfers from higher- to lower- income countries within the current development paradigm may even increase emissions. That is because carbon-intensive diet changes towards animal products and processed foods are most pronounced when countries move from low to medium incomes. Yet when the scientists included consumption changes and efficiency gains incentivised by a price on carbon the results showed an improved nutritional outcome for all consumers lower greenhouse gas emissions and in consequence also less economic activity in agriculture required for food production. For the food sector we can say that a certain degree of degrowth would be the result of the sustainable transformation not the starting point says Hermann Lotze-Campen co-author from the Potsdam Institute. So basically this is not really about less but about different growth. Importantly a sustainable food system transformation that takes into account all costs for the environment would entail a slight increase in food prices -- felt especially by the poor the scientists show. Any transformation hence must be accompanied by a well thought out policy mix of smart taxing schemes social compensation for CO  pricing and international transfers. Also making agriculture more climate friendly e.g. by controlling nitrogen flows in croplands requires investment. These costs however are likely offset by the restoration of ecosystem services.  provided by  .  : : Explore the   in this free online course from   —   Visit   for more global science stories >>> Get the latest science news with ScienceDaily's free email newsletters updated daily and weekly. Or view hourly updated newsfeeds in your RSS reader: Keep up to date with the latest news from ScienceDaily via social networks: Tell us what you think of ScienceDaily -- we welcome both positive and negative comments. Have any problems using the site? Questions?\", \"    The NPR Student Podcast Challenge middle school winners Wesley Helmer Kit Atteberry Harrison McDonald and Blake Turley at Williams Middle School in Rockwall Texas.   The NPR Student Podcast Challenge middle school winners Wesley Helmer Kit Atteberry Harrison McDonald and Blake Turley at Williams Middle School in Rockwall Texas. The town of Rockwall Texas has a few claims to fame: Bonafide Betties Pie Company where thick pies save lives the mega-sized Lakepointe Church and Lake Ray Hubbard which is lovely until the wet Texas heat makes a shoreline stroll feel like a plod through hot butter. Now add to that list: Rockwall is home to the middle-school winners of NPR's fourth-annual Student Podcast Challenge. Their entry   is a funny and sneakily thoughtful exploration of what it means that so many teens today are talking digitally instead of face-to-face. It was one of two winning entries (the high school winner ) chosen by our judges from among more than 2000 student podcasts from around the country. Rockwall hugs the eastern shore of the lake and got its name from a wall-like thread of sandstone that unspools beneath the town. Every street name sounds the same: Lakeshore Club Lake Lakeview Lakeside and so on... says the podcast's narrator 8th-grader Harrison McDonald. If it sounds like our town is boring that's because it is. But let's zoom into the center of one of those neighborhoods on Williams Middle School. That's where Harrison fellow 8th-grader Blake Turley and 7th-graders Kit Atteberry and Wesley Helmer made the podcast as part of librarian Misti Knight's broadcasting class. Knight began teaching Harrison and Blake last year when they would make videos for the school's morning announcements. But then I realized how good [the boys] were and so I would say this year I'm honestly more their manager she laughs. Middle school winners Harrison McDonald Wesley Helmer Kit Atteberry and Blake Turley pose with librarian Misti Knight.   Middle school winners Harrison McDonald Wesley Helmer Kit Atteberry and Blake Turley pose with librarian Misti Knight. Meaning often Ms. Knight just gives the boys the roughest of ideas and encourages them to get creative. Which is why when Harrison came to her with an idea for NPR's Student Podcast Challenge she said Why not? Harrison's interest in the contest surprised no one. He wears chunky headphones around his neck every day like a uniform and says he was raised on public radio. [My family] have a system. On long road trips we listen to . On shorter road trips we listen to  . Kit also brought a love of podcasting to the effort: My dad got me into listening to podcasts and we would just listen to them in the car and listen to them in the house. You know he never really got into music. He was mostly into podcasts Kit says especially  . For their entry Harrison Kit and the team wanted to explore how students at Williams Middle School and likely every other middle and high school in the country interact on social media. Specifically when they go on a platform like TikTok or Instagram and create anonymous accounts to share things about school and their classmates. For example: An account dedicated to pics of students considered hot. My friend was on there Blake says and I texted him 'Hey do you know that you're on this Instagram account?' And he's like 'What?!'  Most of these accounts aren't even gossip Blake adds they're just pictures of people sleeping eating acting surprised acting sad. One account was dedicated entirely to pictures of students sleeping in class. On some accounts students are in on the joke but often they're not Harrison says. Through the internet ... people feel anonymous so they feel like they can do whatever they want — and get likes for it without any punishment. The boys found at least 81 of these accounts at Williams alone. Then they got a bold idea. After seeing all of these social media pages we decided it would be fun if we just made our own profile and posted fake gossip to see the impact it has and how it spreads through a middle school they explain in the podcast. Fake gossip is putting it mildly. We knocked on our school police officer's door and asked if he would pretend to arrest one of our A-V club members for the camera. Surprisingly he actually agreed Harrison says. It was the first video to go up on their new gossip account. We didn't think it would actually get anywhere but less than 15 minutes later we heard people starting to talk about it. Williams Middle School in Rockwall Texas.   Williams Middle School in Rockwall Texas. Next up: The boys staged a fight in the band room hoping a shaky camera and sound effects added in post-production would convince their classmates it was bigger and very real. Some of us would have kids walking up to us daily to tell us how we got absolutely destroyed in that fight or how they didn't know we were in band. We were having fun with it now Harrison says in the podcast. It didn't take long for our fake account to start getting more followers than any other gossip account we could find. As a social experiment these four middle-schoolers went from quiet observers of social media to the school's master muckrakers – even though everything they posted was utterly fake. In that way the podcast works as a warning about the importance of media literacy — at a time when Americans half-a-century their senior are being suckered by social media every day. But the podcast isn't just a scold about fake news. It's also about how for kids their age this is communication. We don't pass notes we send texts with our phones hidden under our desks Harrison says. We don't tell people about incidents that happened in class we post it on TikTok. Our generation prefers talking digitally with each other from a distance [rather] than communicating with each other in the real world. The boys named their podcast  . Ms. Knight a veteran teacher says she's seen these changes in students over the years. An interior view of Williams Middle School in Rockwall Texas.   An interior view of Williams Middle School in Rockwall Texas. I just think there's a lot less talking and a lot more you know swiping through their phone instead of saying 'Hey guess what I saw today?'  Knight has even seen it in her own family. I would talk to my husband about 'Oh did you see our eldest daughter?' She lives in California. 'She did this or whatever.' And he would say 'How do you know this?'  Her answer: 'Because I'm following her social media and her friends' social media.' Because if you don't do that she's probably not going to pick up the phone and call us and tell us. Is that inherently bad? Knight says no not necessarily. She does get to see more of what her daughters and her friends far and wide are doing. The boys' views are similarly complicated. All this talking digitally can be a real curse for teens they say especially when it hurts or excludes others. But it doesn't have to be that way. After all the boys say the whole purpose of technologies from radio to the telephone TV to the internet has always been to help us feel less alone and more connected – by helping us create worlds – and build communities – bigger than the ones we're born into. If you're looking for the high school winner of the Student Podcast Challenge  Sponsor Message\", \"To revist this article visit My Profile then  . To revist this article visit My Profile then  . To revist this article visit My Profile then  . To revist this article visit My Profile then  .  online toy shop owner Cameron Walker relies on Amazon to ship nearly a million packages for his business every year. The 42-year-old’s toy business which designs and manufactures toys and craft materials in China and then sells into English-speaking markets including the UK US and Canada has been running on Amazon’s third-party fulfillment service Fulfilled by Amazon (FBA) since 2016. (Walker asked WIRED not to disclose the name of his business because successful businesses on the site are often attacked by competitors who report fictitious issues to Amazon to try to decrease their standing online.) “We’re almost exclusively through Amazon something like 90-plus percent” he says. The business is in the top three of the biggest child-focused arts-and-crafts brands on Amazon in the UK and amongst the top in the United States and Canada. “It’s an awesome scaling program” he says. “For a minimum amount of money you can scale a business with almost no infrastructure.” Walker is almost wholly reliant on Amazon’s warehouses and shipping capabilities leaving him to handle product design manufacturing and marketing. He hasn’t considered any alternatives or competitors. “That was the plan from the beginning” he says “because it’s the easiest.” But easy doesn’t come cheap. When Amazon announced it had built or bought $2 billion too much warehouse space Walker and other third-party FBA customers received a letter. In the UK it said that their FBA fees would be   due to a “fuel and inflation surcharge.” In the US where the price hike took effect slightly earlier it was deemed necessary “to partially offset the higher permanent operating costs we face going forward.” The FBA service allows third-party sellers to store their products in Amazon fulfillment centers and offload picking packing shipping and customer service to the online retail titan as well as take advantage of Amazon’s Prime delivery service speed. It is used by many companies. “With all the warehousing Amazon’s got it makes it easier for them to do fulfillment because they’ve already got products everywhere” says Ben Graham marketing operations manager at a nutritional supplements company called Toniiq. “They’re already running those lorries around and about so it’s simple for them to say ‘We’ll just ship it. It’s fine.’” But Toniiq is looking to draw down its reliance on Amazon in part because it was attacked by a competitor temporarily locking it out of Amazon and the FBA facility and impacting its sales. \\xa0The company couldn’t even fulfill orders made through its own website because it used FBA for the process. “You’re completely at the mercy of Amazon” says Graham. “It makes it harder to offer any kind of value. You end up with significantly lower margins on Amazon than you would offering the products on your own website.” The ecommerce giant is cheaper than many competitors Graham admits but its dominance means that when price rises come in it’s Amazon’s way or the highway. “In 2022 we expected a return to normalcy as Covid-19 restrictions around the world eased but fuel prices and inflation have presented further challenges” says Amazon spokesperson Dagmar Wickham. “It’s still unclear if these inflationary costs will go up or down or for how long they will persist. Beginning May 12 we will implement a fuel and inflation surcharge of 4.3 percent on top of our current FBA fee per-unit rates in the UK Germany France Italy and Spain.” Wickham denied there was a connection between fee rises and Amazon’s spare warehouse space. The alternative is for sellers to build their own or rent space in independent warehouses—challenging enough at any point never mind at a time when the market is squeezed. The warehouse vacancy rate in the UK is 2.8 percent—the lowest it’s ever been according to \\xa0Kevin Mofid head of industrial and logistics research across Europe the Middle East and Africa for the real estate firm Savills and a specialist in warehouses. In the US the vacancy rate is 4.4 percent he says with variations depending on the market. (On the coasts vacancy rates of less than 2 percent are not uncommon.) “The market is so tight at the moment that anyone not just Amazon is having to think strategically about how much space they need and how much they might need in the future” Mofid says. These conditions dissuade most businesses from trying to chance their luck going it alone—or with a competitor—and instead they swallow the price hikes. “I can totally see how people would say it’s kind of like a frog in boiling water” says Walker. “The costs are only going in one direction.” At the same time business is getting more challenging for FBA sellers. Walker points to Amazon’s business model which requires more new sellers to repeatedly come into the space driving prices down for customers at the same time as fees go up. “That gap is getting more and more narrow” says Walker. “A lot of people sell their business or get eliminated altogether. And for the rest of us you just need to be more and more efficient. You really have to be running a tight ship.” In a low-margin sector the demise of sellers during the pandemic has impacted Amazon too. Amazon overcommitted to warehouse space during the pandemic expecting continued strong growth for its online retail platform which didn’t materialize. Now it’s left paying for empty shelves. In 2019 shipping and fulfillment costs were responsible for 28 percent of Amazon’s operating expenses. Now they’re 35 percent. At the height of the pandemic the ecommerce giant “literally committed to as much as we could to handle the volume that we saw” Amazon’s chief financial officer Brian Olsavsky said in the company’s  . “We’ve come out of a very tumultuous two years” he added. “We are glad we made the decisions we made over the past two years. And now we have a chance to right-size our capacity to a more normalized demand pattern.” It’s impossible to know where the unused warehouse space lies says \\xa0Mofid. “I don’t think you’d be saying: ‘This warehouse is empty and that one isn’t’” he says. “It’s more likely that they just won’t be running at full capacity.” Nor is it possible to know what proportion of Amazon’s warehouse portfolio is lying empty at present. The company has around 500 million square feet of warehouse space in the United States and United Kingdom according to Mofid—90 percent of it in the US. That number   during the course of the pandemic as physical stores closed and online shopping became predominant. Large parts of the storage space owned by Amazon is devoted to its own listings but in recent years the company has also ramped up FBA. Since 2017 third-party sales have made up half or more of all sales. By the end of 2021 third-party items   of all sales through Amazon. The company says   in the US for third-party businesses. However Mofid cautions against thinking that Amazon’s empty warehouses are a massive problem that is likely to lead to repeated price rises. “I don’t think it’s as extreme as people are saying” he says. “They have said they expect that they’ll be utilizing any spare capacity by the time Amazon Prime Day comes around in Q3 and then Christmas in Q4.” 📩 The latest on tech science and more:  !  is so over this pandemic  can kill bacteria and treat wounds  was inevitable Don't fear the switch to an  Thousands of websites  —before you hit submit 👁️ Explore AI like never before with  🏃🏽\\u200d♀️ Want the best tools to get healthy? Check out our Gear team’s picks for the     (including   and  ) and  ©  2022  Condé Nast. All rights reserved. Use of this site constitutes acceptance of our    and   and     may earn a portion of sales from products that are purchased through our site as part of our Affiliate Partnerships with retailers. The material on this site may not be reproduced distributed transmitted cached or otherwise used except with the prior written permission of Condé Nast.  \"]\n"
          ]
        }
      ]
    },
    {
      "cell_type": "code",
      "source": [
        "\n",
        "\n",
        "#Intilizing the BART model \n",
        "model =  BartForConditionalGeneration.from_pretrained(\"facebook/bart-large-cnn\")\n",
        "\n",
        "#intializing text tokenizer\n",
        "tokenizer = BartTokenizer.from_pretrained(\"facebook/bart-base\")\n",
        "\n",
        "\n",
        "#The following piece of code summarizes the articles\n",
        "#NOTE: the model accepts a maximum length of 512 words, so large articles\n",
        "#are summarized iterativley\n",
        "\n",
        "sums = []\n",
        "temp = ''\n",
        "num = 0\n",
        "count = 0\n",
        "for article in articles:\n",
        "  if nums[num] <= 100:\n",
        "    sums.append(article)\n",
        "    num += 1\n",
        "  \n",
        "  else:\n",
        "    while(nums[num] > 10):\n",
        "        inputs = tokenizer([article[count: count +  512]], max_length = 512, return_tensors=\"pt\")\n",
        "        summary_ids = model.generate(inputs[\"input_ids\"], num_beams=2, min_length=0, max_length=50)\n",
        "        temp +=  tokenizer.batch_decode(summary_ids, skip_special_tokens=True, clean_up_tokenization_spaces=False)[0]\n",
        "        nums[num] -= 512\n",
        "        count += 512\n",
        "    print(temp + '\\n')\n",
        "    num += 1\n",
        "    count = 0\n",
        "    sums.append(temp)\n",
        "    temp = ''\n",
        "\n",
        "\n",
        "\n",
        "newspaper = {'nytimes':'new york times', 'washingtonpost':'washington post', 'theguardian':'the guardian'}\n",
        "\n",
        "#This function creates a sperate column contains the website name\n",
        "def paper(df):\n",
        "  col = df['url'].lower()\n",
        "  for k in newspaper.keys():\n",
        "    n = re.search(k, col)\n",
        "    if n != None:\n",
        "      return re.sub(col,newspaper[k], col)\n",
        "\n",
        "#This fucntion cleans the title from non-alphanumeric characters and removes\n",
        "#the website name from the title\n",
        "def cleaner(df):\n",
        "  col = df['title'].lower()\n",
        "  for k in newspaper:\n",
        "    if k in col:\n",
        "      col = col - k\n",
        "  return ''.join(char for char in col if char.isalnum() or char == ' ')\n",
        "\n",
        "\n",
        "def text_cleaner(df):\n",
        "  c = df['text'].lower()\n",
        "  #remove words between brackets\n",
        "  c = re.sub(\"[\\(\\[].*?[\\)\\]]\", '', c)\n",
        "  #remove all special characters and numbers from main text\n",
        "  return str(''.join(char for char in c if char.isalpha() or char == ' '))\n",
        "\n",
        "\n",
        "#Create a paper column\n",
        "news['paper'] = news.apply(paper, axis = 1)\n",
        "\n",
        "#Clean title column\n",
        "news['title_new'] = news.apply(cleaner, axis = 1)\n",
        "news['title'] = news['title_new']\n",
        "news = news.drop(['title_new'], axis = 1)\n",
        "\n",
        "print(test.head(10))\n"
      ],
      "metadata": {
        "id": "4mVpmb8tD022"
      },
      "execution_count": null,
      "outputs": []
    },
    {
      "cell_type": "code",
      "source": [
        "\"\"\"\n",
        "There are sum patterns in the summarized text needs removal:\n",
        "1. ''\n",
        "\"\"\""
      ],
      "metadata": {
        "id": "OZ6qkXcu4Cp6"
      },
      "execution_count": null,
      "outputs": []
    }
  ],
  "metadata": {
    "colab": {
      "collapsed_sections": [],
      "name": "New Recommender Pre-processing",
      "provenance": []
    },
    "kernelspec": {
      "display_name": "Python 3",
      "name": "python3"
    }
  },
  "nbformat": 4,
  "nbformat_minor": 0
}